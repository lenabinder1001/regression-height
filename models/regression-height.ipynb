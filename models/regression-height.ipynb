{
 "cells": [
  {
   "cell_type": "markdown",
   "metadata": {},
   "source": [
    "# Regression Analysis: Height Data"
   ]
  },
  {
   "cell_type": "markdown",
   "metadata": {},
   "source": [
    "### Python Setup"
   ]
  },
  {
   "cell_type": "code",
   "execution_count": 2,
   "metadata": {},
   "outputs": [],
   "source": [
    "import pandas as pd\n",
    "import numpy as np\n",
    "\n",
    "import statsmodels.formula.api as smf\n",
    "from statsmodels.compat import lzip\n",
    "import statsmodels.api as sm\n",
    "from statsmodels.stats.outliers_influence import variance_inflation_factor\n",
    "\n",
    "from patsy import dmatrices\n",
    "\n",
    "import seaborn as sns\n",
    "import matplotlib.pyplot as plt\n",
    "\n",
    "sns.set_theme(style=\"ticks\")\n",
    "%matplotlib inline"
   ]
  },
  {
   "cell_type": "markdown",
   "metadata": {},
   "source": [
    "### Data"
   ]
  },
  {
   "cell_type": "code",
   "execution_count": 6,
   "metadata": {},
   "outputs": [],
   "source": [
    "github =\"https://raw.githubusercontent.com/kirenz/datasets/master/height.csv\"\n",
    "\n",
    "df = pd.read_csv(github)\n",
    "np.random.seed(12) # aktuellen Zustand der Zufallsfunktion speichern -> gleiche Zahl erzeugen, auch wenn Code mehrmals ausgeführt wird\n",
    "\n",
    "df[\"id\"] = pd.Categorical(df[\"id\"])\n",
    "df[\"height_m\"] = df.height/100 # calculate height in m (from cm)\n",
    "df[\"weight\"] = round(np.random.normal(45, 5, 20) * df[\"height_m\"], 2)\n",
    "df[\"bmi\"] = round(df.weight / (df.height_m * df.height_m), 2)"
   ]
  },
  {
   "cell_type": "code",
   "execution_count": 7,
   "metadata": {},
   "outputs": [],
   "source": [
    "df[\"bmi_category\"] = pd.cut(df[\"bmi\"], # cut = kontinuierliche Variable in kategoriale Variable umwandeln\n",
    "                            bins=[0, 18.5, 25, 30, float(\"inf\")],\n",
    "                            labels=[\"underweight\", \"normal\", \"overweight\", \"obese\"])"
   ]
  },
  {
   "cell_type": "code",
   "execution_count": 8,
   "metadata": {},
   "outputs": [
    {
     "data": {
      "text/html": [
       "<div>\n",
       "<style scoped>\n",
       "    .dataframe tbody tr th:only-of-type {\n",
       "        vertical-align: middle;\n",
       "    }\n",
       "\n",
       "    .dataframe tbody tr th {\n",
       "        vertical-align: top;\n",
       "    }\n",
       "\n",
       "    .dataframe thead th {\n",
       "        text-align: right;\n",
       "    }\n",
       "</style>\n",
       "<table border=\"1\" class=\"dataframe\">\n",
       "  <thead>\n",
       "    <tr style=\"text-align: right;\">\n",
       "      <th></th>\n",
       "      <th>name</th>\n",
       "      <th>id</th>\n",
       "      <th>height</th>\n",
       "      <th>average_height_parents</th>\n",
       "      <th>gender</th>\n",
       "      <th>height_m</th>\n",
       "      <th>weight</th>\n",
       "      <th>bmi</th>\n",
       "      <th>bmi_category</th>\n",
       "    </tr>\n",
       "  </thead>\n",
       "  <tbody>\n",
       "    <tr>\n",
       "      <th>0</th>\n",
       "      <td>Stefanie</td>\n",
       "      <td>1</td>\n",
       "      <td>162</td>\n",
       "      <td>161</td>\n",
       "      <td>female</td>\n",
       "      <td>1.62</td>\n",
       "      <td>76.73</td>\n",
       "      <td>29.24</td>\n",
       "      <td>overweight</td>\n",
       "    </tr>\n",
       "    <tr>\n",
       "      <th>1</th>\n",
       "      <td>Peter</td>\n",
       "      <td>2</td>\n",
       "      <td>163</td>\n",
       "      <td>163</td>\n",
       "      <td>male</td>\n",
       "      <td>1.63</td>\n",
       "      <td>67.80</td>\n",
       "      <td>25.52</td>\n",
       "      <td>overweight</td>\n",
       "    </tr>\n",
       "    <tr>\n",
       "      <th>2</th>\n",
       "      <td>Stefanie</td>\n",
       "      <td>3</td>\n",
       "      <td>163</td>\n",
       "      <td>163</td>\n",
       "      <td>female</td>\n",
       "      <td>1.63</td>\n",
       "      <td>75.33</td>\n",
       "      <td>28.35</td>\n",
       "      <td>overweight</td>\n",
       "    </tr>\n",
       "    <tr>\n",
       "      <th>3</th>\n",
       "      <td>Manuela</td>\n",
       "      <td>4</td>\n",
       "      <td>164</td>\n",
       "      <td>165</td>\n",
       "      <td>female</td>\n",
       "      <td>1.64</td>\n",
       "      <td>59.85</td>\n",
       "      <td>22.25</td>\n",
       "      <td>normal</td>\n",
       "    </tr>\n",
       "    <tr>\n",
       "      <th>4</th>\n",
       "      <td>Simon</td>\n",
       "      <td>5</td>\n",
       "      <td>164</td>\n",
       "      <td>163</td>\n",
       "      <td>male</td>\n",
       "      <td>1.64</td>\n",
       "      <td>79.98</td>\n",
       "      <td>29.74</td>\n",
       "      <td>overweight</td>\n",
       "    </tr>\n",
       "    <tr>\n",
       "      <th>5</th>\n",
       "      <td>Sophia</td>\n",
       "      <td>6</td>\n",
       "      <td>164</td>\n",
       "      <td>164</td>\n",
       "      <td>female</td>\n",
       "      <td>1.64</td>\n",
       "      <td>61.22</td>\n",
       "      <td>22.76</td>\n",
       "      <td>normal</td>\n",
       "    </tr>\n",
       "    <tr>\n",
       "      <th>6</th>\n",
       "      <td>Ellen</td>\n",
       "      <td>7</td>\n",
       "      <td>164</td>\n",
       "      <td>164</td>\n",
       "      <td>female</td>\n",
       "      <td>1.64</td>\n",
       "      <td>73.84</td>\n",
       "      <td>27.45</td>\n",
       "      <td>overweight</td>\n",
       "    </tr>\n",
       "    <tr>\n",
       "      <th>7</th>\n",
       "      <td>Emilia</td>\n",
       "      <td>8</td>\n",
       "      <td>165</td>\n",
       "      <td>165</td>\n",
       "      <td>female</td>\n",
       "      <td>1.65</td>\n",
       "      <td>73.26</td>\n",
       "      <td>26.91</td>\n",
       "      <td>overweight</td>\n",
       "    </tr>\n",
       "    <tr>\n",
       "      <th>8</th>\n",
       "      <td>Lina</td>\n",
       "      <td>9</td>\n",
       "      <td>165</td>\n",
       "      <td>165</td>\n",
       "      <td>female</td>\n",
       "      <td>1.65</td>\n",
       "      <td>67.59</td>\n",
       "      <td>24.83</td>\n",
       "      <td>normal</td>\n",
       "    </tr>\n",
       "    <tr>\n",
       "      <th>9</th>\n",
       "      <td>Marie</td>\n",
       "      <td>10</td>\n",
       "      <td>165</td>\n",
       "      <td>165</td>\n",
       "      <td>female</td>\n",
       "      <td>1.65</td>\n",
       "      <td>97.94</td>\n",
       "      <td>35.97</td>\n",
       "      <td>obese</td>\n",
       "    </tr>\n",
       "    <tr>\n",
       "      <th>10</th>\n",
       "      <td>Lena</td>\n",
       "      <td>11</td>\n",
       "      <td>165</td>\n",
       "      <td>166</td>\n",
       "      <td>female</td>\n",
       "      <td>1.65</td>\n",
       "      <td>69.32</td>\n",
       "      <td>25.46</td>\n",
       "      <td>overweight</td>\n",
       "    </tr>\n",
       "    <tr>\n",
       "      <th>11</th>\n",
       "      <td>Mila</td>\n",
       "      <td>12</td>\n",
       "      <td>165</td>\n",
       "      <td>167</td>\n",
       "      <td>female</td>\n",
       "      <td>1.65</td>\n",
       "      <td>78.15</td>\n",
       "      <td>28.71</td>\n",
       "      <td>overweight</td>\n",
       "    </tr>\n",
       "    <tr>\n",
       "      <th>12</th>\n",
       "      <td>Fin</td>\n",
       "      <td>13</td>\n",
       "      <td>165</td>\n",
       "      <td>165</td>\n",
       "      <td>male</td>\n",
       "      <td>1.65</td>\n",
       "      <td>83.29</td>\n",
       "      <td>30.59</td>\n",
       "      <td>obese</td>\n",
       "    </tr>\n",
       "    <tr>\n",
       "      <th>13</th>\n",
       "      <td>Eric</td>\n",
       "      <td>14</td>\n",
       "      <td>166</td>\n",
       "      <td>166</td>\n",
       "      <td>male</td>\n",
       "      <td>1.66</td>\n",
       "      <td>64.61</td>\n",
       "      <td>23.45</td>\n",
       "      <td>normal</td>\n",
       "    </tr>\n",
       "    <tr>\n",
       "      <th>14</th>\n",
       "      <td>Pia</td>\n",
       "      <td>15</td>\n",
       "      <td>166</td>\n",
       "      <td>166</td>\n",
       "      <td>female</td>\n",
       "      <td>1.66</td>\n",
       "      <td>85.84</td>\n",
       "      <td>31.15</td>\n",
       "      <td>obese</td>\n",
       "    </tr>\n",
       "    <tr>\n",
       "      <th>15</th>\n",
       "      <td>Marc</td>\n",
       "      <td>16</td>\n",
       "      <td>166</td>\n",
       "      <td>166</td>\n",
       "      <td>male</td>\n",
       "      <td>1.66</td>\n",
       "      <td>73.69</td>\n",
       "      <td>26.74</td>\n",
       "      <td>overweight</td>\n",
       "    </tr>\n",
       "    <tr>\n",
       "      <th>16</th>\n",
       "      <td>Ralph</td>\n",
       "      <td>17</td>\n",
       "      <td>166</td>\n",
       "      <td>166</td>\n",
       "      <td>male</td>\n",
       "      <td>1.66</td>\n",
       "      <td>83.10</td>\n",
       "      <td>30.16</td>\n",
       "      <td>obese</td>\n",
       "    </tr>\n",
       "    <tr>\n",
       "      <th>17</th>\n",
       "      <td>Tom</td>\n",
       "      <td>18</td>\n",
       "      <td>167</td>\n",
       "      <td>166</td>\n",
       "      <td>male</td>\n",
       "      <td>1.67</td>\n",
       "      <td>67.52</td>\n",
       "      <td>24.21</td>\n",
       "      <td>normal</td>\n",
       "    </tr>\n",
       "    <tr>\n",
       "      <th>18</th>\n",
       "      <td>Steven</td>\n",
       "      <td>19</td>\n",
       "      <td>167</td>\n",
       "      <td>167</td>\n",
       "      <td>male</td>\n",
       "      <td>1.67</td>\n",
       "      <td>66.55</td>\n",
       "      <td>23.86</td>\n",
       "      <td>normal</td>\n",
       "    </tr>\n",
       "    <tr>\n",
       "      <th>19</th>\n",
       "      <td>Emanuel</td>\n",
       "      <td>20</td>\n",
       "      <td>168</td>\n",
       "      <td>168</td>\n",
       "      <td>male</td>\n",
       "      <td>1.68</td>\n",
       "      <td>85.76</td>\n",
       "      <td>30.39</td>\n",
       "      <td>obese</td>\n",
       "    </tr>\n",
       "  </tbody>\n",
       "</table>\n",
       "</div>"
      ],
      "text/plain": [
       "        name  id  height  ...  weight    bmi  bmi_category\n",
       "0   Stefanie   1     162  ...   76.73  29.24    overweight\n",
       "1      Peter   2     163  ...   67.80  25.52    overweight\n",
       "2   Stefanie   3     163  ...   75.33  28.35    overweight\n",
       "3    Manuela   4     164  ...   59.85  22.25        normal\n",
       "4      Simon   5     164  ...   79.98  29.74    overweight\n",
       "5     Sophia   6     164  ...   61.22  22.76        normal\n",
       "6      Ellen   7     164  ...   73.84  27.45    overweight\n",
       "7     Emilia   8     165  ...   73.26  26.91    overweight\n",
       "8       Lina   9     165  ...   67.59  24.83        normal\n",
       "9      Marie  10     165  ...   97.94  35.97         obese\n",
       "10      Lena  11     165  ...   69.32  25.46    overweight\n",
       "11      Mila  12     165  ...   78.15  28.71    overweight\n",
       "12       Fin  13     165  ...   83.29  30.59         obese\n",
       "13      Eric  14     166  ...   64.61  23.45        normal\n",
       "14       Pia  15     166  ...   85.84  31.15         obese\n",
       "15      Marc  16     166  ...   73.69  26.74    overweight\n",
       "16     Ralph  17     166  ...   83.10  30.16         obese\n",
       "17       Tom  18     167  ...   67.52  24.21        normal\n",
       "18    Steven  19     167  ...   66.55  23.86        normal\n",
       "19   Emanuel  20     168  ...   85.76  30.39         obese\n",
       "\n",
       "[20 rows x 9 columns]"
      ]
     },
     "execution_count": 8,
     "metadata": {},
     "output_type": "execute_result"
    }
   ],
   "source": [
    "df"
   ]
  },
  {
   "cell_type": "code",
   "execution_count": 9,
   "metadata": {},
   "outputs": [
    {
     "data": {
      "image/png": "[encoded data removed]",
      "text/plain": [
       "<Figure size 720x720 with 20 Axes>"
      ]
     },
     "metadata": {
      "needs_background": "light"
     },
     "output_type": "display_data"
    }
   ],
   "source": [
    "# plot numerical data as pairs\n",
    "sns.pairplot(df, vars=[\"height\", \"average_height_parents\", \"weight\", \"bmi\"]);"
   ]
  },
  {
   "cell_type": "code",
   "execution_count": 10,
   "metadata": {},
   "outputs": [
    {
     "data": {
      "text/html": [
       "<div>\n",
       "<style scoped>\n",
       "    .dataframe tbody tr th:only-of-type {\n",
       "        vertical-align: middle;\n",
       "    }\n",
       "\n",
       "    .dataframe tbody tr th {\n",
       "        vertical-align: top;\n",
       "    }\n",
       "\n",
       "    .dataframe thead th {\n",
       "        text-align: right;\n",
       "    }\n",
       "</style>\n",
       "<table border=\"1\" class=\"dataframe\">\n",
       "  <thead>\n",
       "    <tr style=\"text-align: right;\">\n",
       "      <th></th>\n",
       "      <th>count</th>\n",
       "      <th>mean</th>\n",
       "      <th>std</th>\n",
       "      <th>min</th>\n",
       "      <th>25%</th>\n",
       "      <th>50%</th>\n",
       "      <th>75%</th>\n",
       "      <th>max</th>\n",
       "    </tr>\n",
       "  </thead>\n",
       "  <tbody>\n",
       "    <tr>\n",
       "      <th>height</th>\n",
       "      <td>20.0</td>\n",
       "      <td>165.0000</td>\n",
       "      <td>1.486784</td>\n",
       "      <td>162.00</td>\n",
       "      <td>164.0000</td>\n",
       "      <td>165.000</td>\n",
       "      <td>166.000</td>\n",
       "      <td>168.00</td>\n",
       "    </tr>\n",
       "    <tr>\n",
       "      <th>average_height_parents</th>\n",
       "      <td>20.0</td>\n",
       "      <td>165.0500</td>\n",
       "      <td>1.669384</td>\n",
       "      <td>161.00</td>\n",
       "      <td>164.0000</td>\n",
       "      <td>165.000</td>\n",
       "      <td>166.000</td>\n",
       "      <td>168.00</td>\n",
       "    </tr>\n",
       "    <tr>\n",
       "      <th>height_m</th>\n",
       "      <td>20.0</td>\n",
       "      <td>1.6500</td>\n",
       "      <td>0.014868</td>\n",
       "      <td>1.62</td>\n",
       "      <td>1.6400</td>\n",
       "      <td>1.650</td>\n",
       "      <td>1.660</td>\n",
       "      <td>1.68</td>\n",
       "    </tr>\n",
       "    <tr>\n",
       "      <th>weight</th>\n",
       "      <td>20.0</td>\n",
       "      <td>74.5685</td>\n",
       "      <td>9.536019</td>\n",
       "      <td>59.85</td>\n",
       "      <td>67.5725</td>\n",
       "      <td>73.765</td>\n",
       "      <td>80.760</td>\n",
       "      <td>97.94</td>\n",
       "    </tr>\n",
       "    <tr>\n",
       "      <th>bmi</th>\n",
       "      <td>20.0</td>\n",
       "      <td>27.3870</td>\n",
       "      <td>3.453915</td>\n",
       "      <td>22.25</td>\n",
       "      <td>24.6750</td>\n",
       "      <td>27.180</td>\n",
       "      <td>29.845</td>\n",
       "      <td>35.97</td>\n",
       "    </tr>\n",
       "  </tbody>\n",
       "</table>\n",
       "</div>"
      ],
      "text/plain": [
       "                        count      mean       std  ...      50%      75%     max\n",
       "height                   20.0  165.0000  1.486784  ...  165.000  166.000  168.00\n",
       "average_height_parents   20.0  165.0500  1.669384  ...  165.000  166.000  168.00\n",
       "height_m                 20.0    1.6500  0.014868  ...    1.650    1.660    1.68\n",
       "weight                   20.0   74.5685  9.536019  ...   73.765   80.760   97.94\n",
       "bmi                      20.0   27.3870  3.453915  ...   27.180   29.845   35.97\n",
       "\n",
       "[5 rows x 8 columns]"
      ]
     },
     "execution_count": 10,
     "metadata": {},
     "output_type": "execute_result"
    }
   ],
   "source": [
    "df.describe().T"
   ]
  },
  {
   "cell_type": "code",
   "execution_count": 11,
   "metadata": {},
   "outputs": [
    {
     "data": {
      "image/png": "[encoded data removed]",
      "text/plain": [
       "<Figure size 432x288 with 1 Axes>"
      ]
     },
     "metadata": {
      "needs_background": "light"
     },
     "output_type": "display_data"
    }
   ],
   "source": [
    "sns.scatterplot(data=df, x=\"height\", y=\"average_height_parents\", hue=\"gender\");"
   ]
  },
  {
   "cell_type": "markdown",
   "metadata": {},
   "source": [
    "### Regression Model 1"
   ]
  },
  {
   "cell_type": "code",
   "execution_count": 12,
   "metadata": {},
   "outputs": [],
   "source": [
    "fit = smf.ols(formula=\"height ~ average_height_parents\", data=df).fit()"
   ]
  },
  {
   "cell_type": "code",
   "execution_count": 13,
   "metadata": {},
   "outputs": [
    {
     "name": "stdout",
     "output_type": "stream",
     "text": [
      "                            OLS Regression Results                            \n",
      "==============================================================================\n",
      "Dep. Variable:                 height   R-squared:                       0.831\n",
      "Model:                            OLS   Adj. R-squared:                  0.822\n",
      "Method:                 Least Squares   F-statistic:                     88.78\n",
      "Date:                Tue, 05 Apr 2022   Prob (F-statistic):           2.21e-08\n",
      "Time:                        11:43:40   Log-Likelihood:                -17.995\n",
      "No. Observations:                  20   AIC:                             39.99\n",
      "Df Residuals:                      18   BIC:                             41.98\n",
      "Df Model:                           1                                         \n",
      "Covariance Type:            nonrobust                                         \n",
      "==========================================================================================\n",
      "                             coef    std err          t      P>|t|      [0.025      0.975]\n",
      "------------------------------------------------------------------------------------------\n",
      "Intercept                 30.9651     14.226      2.177      0.043       1.077      60.853\n",
      "average_height_parents     0.8121      0.086      9.422      0.000       0.631       0.993\n",
      "==============================================================================\n",
      "Omnibus:                        4.700   Durbin-Watson:                   1.384\n",
      "Prob(Omnibus):                  0.095   Jarque-Bera (JB):                2.492\n",
      "Skew:                          -0.684   Prob(JB):                        0.288\n",
      "Kurtosis:                       4.058   Cond. No.                     1.67e+04\n",
      "==============================================================================\n",
      "\n",
      "Notes:\n",
      "[1] Standard Errors assume that the covariance matrix of the errors is correctly specified.\n",
      "[2] The condition number is large, 1.67e+04. This might indicate that there are\n",
      "strong multicollinearity or other numerical problems.\n"
     ]
    }
   ],
   "source": [
    "print(fit.summary())"
   ]
  },
  {
   "cell_type": "code",
   "execution_count": 14,
   "metadata": {},
   "outputs": [
    {
     "data": {
      "image/png": "[encoded data removed]",
      "text/plain": [
       "<Figure size 360x360 with 1 Axes>"
      ]
     },
     "metadata": {
      "needs_background": "light"
     },
     "output_type": "display_data"
    }
   ],
   "source": [
    "sns.lmplot(data=df, x=\"height\", y=\"average_height_parents\");"
   ]
  },
  {
   "cell_type": "code",
   "execution_count": 15,
   "metadata": {},
   "outputs": [
    {
     "data": {
      "text/html": [
       "<div>\n",
       "<style scoped>\n",
       "    .dataframe tbody tr th:only-of-type {\n",
       "        vertical-align: middle;\n",
       "    }\n",
       "\n",
       "    .dataframe tbody tr th {\n",
       "        vertical-align: top;\n",
       "    }\n",
       "\n",
       "    .dataframe thead th {\n",
       "        text-align: right;\n",
       "    }\n",
       "</style>\n",
       "<table border=\"1\" class=\"dataframe\">\n",
       "  <thead>\n",
       "    <tr style=\"text-align: right;\">\n",
       "      <th></th>\n",
       "      <th>average_height_parents</th>\n",
       "    </tr>\n",
       "  </thead>\n",
       "  <tbody>\n",
       "    <tr>\n",
       "      <th>0</th>\n",
       "      <td>165</td>\n",
       "    </tr>\n",
       "  </tbody>\n",
       "</table>\n",
       "</div>"
      ],
      "text/plain": [
       "   average_height_parents\n",
       "0                     165"
      ]
     },
     "execution_count": 15,
     "metadata": {},
     "output_type": "execute_result"
    }
   ],
   "source": [
    "# create an out of sample value for height parents of 165\n",
    "df_new = pd.DataFrame({\"average_height_parents\" : [165] })\n",
    "\n",
    "df_new"
   ]
  },
  {
   "cell_type": "code",
   "execution_count": 16,
   "metadata": {},
   "outputs": [],
   "source": [
    "# predistion for out of sample\n",
    "prediction = fit.get_prediction(df_new[\"average_height_parents\"])"
   ]
  },
  {
   "cell_type": "code",
   "execution_count": 17,
   "metadata": {},
   "outputs": [
    {
     "data": {
      "text/html": [
       "<div>\n",
       "<style scoped>\n",
       "    .dataframe tbody tr th:only-of-type {\n",
       "        vertical-align: middle;\n",
       "    }\n",
       "\n",
       "    .dataframe tbody tr th {\n",
       "        vertical-align: top;\n",
       "    }\n",
       "\n",
       "    .dataframe thead th {\n",
       "        text-align: right;\n",
       "    }\n",
       "</style>\n",
       "<table border=\"1\" class=\"dataframe\">\n",
       "  <thead>\n",
       "    <tr style=\"text-align: right;\">\n",
       "      <th></th>\n",
       "      <th>mean</th>\n",
       "      <th>mean_se</th>\n",
       "      <th>mean_ci_lower</th>\n",
       "      <th>mean_ci_upper</th>\n",
       "      <th>obs_ci_lower</th>\n",
       "      <th>obs_ci_upper</th>\n",
       "    </tr>\n",
       "  </thead>\n",
       "  <tbody>\n",
       "    <tr>\n",
       "      <th>0</th>\n",
       "      <td>164.959396</td>\n",
       "      <td>0.140307</td>\n",
       "      <td>164.664622</td>\n",
       "      <td>165.254169</td>\n",
       "      <td>163.609181</td>\n",
       "      <td>166.30961</td>\n",
       "    </tr>\n",
       "  </tbody>\n",
       "</table>\n",
       "</div>"
      ],
      "text/plain": [
       "         mean   mean_se  ...  obs_ci_lower  obs_ci_upper\n",
       "0  164.959396  0.140307  ...    163.609181     166.30961\n",
       "\n",
       "[1 rows x 6 columns]"
      ]
     },
     "execution_count": 17,
     "metadata": {},
     "output_type": "execute_result"
    }
   ],
   "source": [
    "prediction.summary_frame(alpha=0.05) # obtain summary inclusing a 95% confidence intervall (alpha=0.05) with the prediction result (mean), standard error (mean_se) and confidence intervalls (mean_ci)"
   ]
  },
  {
   "cell_type": "markdown",
   "metadata": {},
   "source": [
    "##### Residuals"
   ]
  },
  {
   "cell_type": "markdown",
   "metadata": {},
   "source": [
    "Sum of squared residuals:"
   ]
  },
  {
   "cell_type": "code",
   "execution_count": 18,
   "metadata": {},
   "outputs": [
    {
     "data": {
      "text/plain": [
       "7.080264400377715"
      ]
     },
     "execution_count": 18,
     "metadata": {},
     "output_type": "execute_result"
    }
   ],
   "source": [
    "fit.ssr"
   ]
  },
  {
   "cell_type": "markdown",
   "metadata": {},
   "source": [
    "- Mean squared Error (MSE) is the mean of SSR\n",
    "- The root mean squared error (RMSE) is the root of MSE"
   ]
  },
  {
   "cell_type": "code",
   "execution_count": 19,
   "metadata": {},
   "outputs": [
    {
     "data": {
      "text/plain": [
       "0.39334802224320636"
      ]
     },
     "execution_count": 19,
     "metadata": {},
     "output_type": "execute_result"
    }
   ],
   "source": [
    "# mean squared error\n",
    "fit.mse_resid"
   ]
  },
  {
   "cell_type": "code",
   "execution_count": 20,
   "metadata": {},
   "outputs": [
    {
     "data": {
      "text/plain": [
       "0.627174634566168"
      ]
     },
     "execution_count": 20,
     "metadata": {},
     "output_type": "execute_result"
    }
   ],
   "source": [
    "# root mean squared error\n",
    "np.sqrt(fit.mse_resid)"
   ]
  },
  {
   "cell_type": "code",
   "execution_count": null,
   "metadata": {},
   "outputs": [],
   "source": []
  }
 ],
 "metadata": {
  "interpreter": {
   "hash": "5fb07a3727ae4314e98e0ee05c331830050541d8af7be31e5dfe3553cd7ccddd"
  },
  "kernelspec": {
   "display_name": "Python 3.9.7 ('base')",
   "language": "python",
   "name": "python3"
  },
  "language_info": {
   "codemirror_mode": {
    "name": "ipython",
    "version": 3
   },
   "file_extension": ".py",
   "mimetype": "text/x-python",
   "name": "python",
   "nbconvert_exporter": "python",
   "pygments_lexer": "ipython3",
   "version": "3.9.7"
  },
  "orig_nbformat": 4
 },
 "nbformat": 4,
 "nbformat_minor": 2
}
